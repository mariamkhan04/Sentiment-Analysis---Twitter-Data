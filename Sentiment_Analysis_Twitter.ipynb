{
 "cells": [
  {
   "cell_type": "markdown",
   "metadata": {},
   "source": [
    "# **Sentiment Analysis of Twitter Data: Understanding Public Opinion on 'Borderlands'**"
   ]
  },
  {
   "cell_type": "markdown",
   "metadata": {},
   "source": [
    "## **Project Objective:**\n",
    "To analyze and visualize sentiment patterns in Twitter data related to the video game franchise \"Borderlands\". The project aims to classify tweets into sentiment categories (positive, neutral, negative), understand public opinion and attitudes, and develop a predictive model to automate sentiment classification."
   ]
  },
  {
   "cell_type": "markdown",
   "metadata": {},
   "source": [
    "### **1. Import Libraries:**\n",
    "First step is to import all the necessary libraries."
   ]
  },
  {
   "cell_type": "code",
   "execution_count": 1,
   "metadata": {},
   "outputs": [],
   "source": [
    "import pandas as pd\n",
    "import numpy as np\n",
    "import matplotlib.pyplot as plt"
   ]
  },
  {
   "cell_type": "markdown",
   "metadata": {},
   "source": [
    "### **2. Load Dataset:**"
   ]
  },
  {
   "cell_type": "code",
   "execution_count": 2,
   "metadata": {},
   "outputs": [
    {
     "name": "stdout",
     "output_type": "stream",
     "text": [
      "   2401  Borderlands  Positive  \\\n",
      "0  2401  Borderlands  Positive   \n",
      "1  2401  Borderlands  Positive   \n",
      "2  2401  Borderlands  Positive   \n",
      "3  2401  Borderlands  Positive   \n",
      "4  2401  Borderlands  Positive   \n",
      "\n",
      "  im getting on borderlands and i will murder you all ,  \n",
      "0  I am coming to the borders and I will kill you...     \n",
      "1  im getting on borderlands and i will kill you ...     \n",
      "2  im coming on borderlands and i will murder you...     \n",
      "3  im getting on borderlands 2 and i will murder ...     \n",
      "4  im getting into borderlands and i can murder y...     \n"
     ]
    }
   ],
   "source": [
    "# Load the twitter data set\n",
    "twitter_df = pd.read_csv(\"twitter_training.csv\")\n",
    "\n",
    "# Print first few rows of the dataset\n",
    "print(twitter_df.head())"
   ]
  },
  {
   "cell_type": "markdown",
   "metadata": {},
   "source": [
    "### **3. Data Inspection:**\n",
    "Now, Lets inspect the data about how many tweets and attributes are there. As well as check for missing values and duplicates."
   ]
  },
  {
   "cell_type": "code",
   "execution_count": 10,
   "metadata": {},
   "outputs": [
    {
     "name": "stdout",
     "output_type": "stream",
     "text": [
      "\n",
      "Data Overview: \n",
      "<class 'pandas.core.frame.DataFrame'>\n",
      "RangeIndex: 74681 entries, 0 to 74680\n",
      "Data columns (total 4 columns):\n",
      " #   Column                                                 Non-Null Count  Dtype \n",
      "---  ------                                                 --------------  ----- \n",
      " 0   2401                                                   74681 non-null  int64 \n",
      " 1   Borderlands                                            74681 non-null  object\n",
      " 2   Positive                                               74681 non-null  object\n",
      " 3   im getting on borderlands and i will murder you all ,  73995 non-null  object\n",
      "dtypes: int64(1), object(3)\n",
      "memory usage: 2.3+ MB\n",
      "None\n",
      "\n",
      "Shape of Data: \n",
      "(74681, 4)\n",
      "\n",
      "Summary-Statistics: \n",
      "               2401\n",
      "count  74681.000000\n",
      "mean    6432.640149\n",
      "std     3740.423819\n",
      "min        1.000000\n",
      "25%     3195.000000\n",
      "50%     6422.000000\n",
      "75%     9601.000000\n",
      "max    13200.000000\n",
      "\n",
      "Missing Values: \n",
      "2401                                                       0\n",
      "Borderlands                                                0\n",
      "Positive                                                   0\n",
      "im getting on borderlands and i will murder you all ,    686\n",
      "dtype: int64\n"
     ]
    }
   ],
   "source": [
    "# Data Overview  \n",
    "print(\"\\nData Overview: \")\n",
    "print(twitter_df.info())\n",
    "\n",
    "# No. of Rows and Columns in dataset\n",
    "print(\"\\nShape of Data: \")\n",
    "print(twitter_df.shape)\n",
    "\n",
    "# Summary-Statistics\n",
    "print(\"\\nSummary-Statistics: \")\n",
    "print(twitter_df.describe())\n",
    "\n",
    "# Check for missing values\n",
    "print(\"\\nMissing Values: \")\n",
    "print(twitter_df.isnull().sum())"
   ]
  },
  {
   "cell_type": "code",
   "execution_count": 16,
   "metadata": {},
   "outputs": [
    {
     "name": "stdout",
     "output_type": "stream",
     "text": [
      "2401                                                     0\n",
      "Borderlands                                              0\n",
      "Positive                                                 0\n",
      "im getting on borderlands and i will murder you all ,    0\n",
      "dtype: int64\n",
      "Duplicates: \n",
      "2340\n"
     ]
    }
   ],
   "source": [
    "# Handle missing values in tweet text\n",
    "twitter_df = twitter_df.dropna()\n",
    "print(twitter_df.isnull().sum())\n",
    "\n",
    "# Check for duplicates \n",
    "print(\"Duplicates: \")\n",
    "print(twitter_df.duplicated().sum())"
   ]
  },
  {
   "cell_type": "code",
   "execution_count": 17,
   "metadata": {},
   "outputs": [
    {
     "name": "stdout",
     "output_type": "stream",
     "text": [
      "0\n"
     ]
    }
   ],
   "source": [
    "# handle duplicates\n",
    "twitter_df = twitter_df.drop_duplicates()\n",
    "print(twitter_df.duplicated().sum())"
   ]
  }
 ],
 "metadata": {
  "kernelspec": {
   "display_name": "Python 3",
   "language": "python",
   "name": "python3"
  },
  "language_info": {
   "codemirror_mode": {
    "name": "ipython",
    "version": 3
   },
   "file_extension": ".py",
   "mimetype": "text/x-python",
   "name": "python",
   "nbconvert_exporter": "python",
   "pygments_lexer": "ipython3",
   "version": "3.12.5"
  }
 },
 "nbformat": 4,
 "nbformat_minor": 2
}
